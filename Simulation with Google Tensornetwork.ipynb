{
 "cells": [
  {
   "cell_type": "code",
   "execution_count": 1,
   "metadata": {},
   "outputs": [
    {
     "name": "stdout",
     "output_type": "stream",
     "text": [
      "\n",
      "# DEVICE : cpu\n",
      "\n"
     ]
    }
   ],
   "source": [
    "import numpy as np\n",
    "import tensornetwork as tn\n",
    "import time\n",
    "import datetime\n",
    "from qiskit import QuantumCircuit\n",
    "from qiskit.quantum_info.operators import Operator\n",
    "from func_timeout import func_set_timeout\n",
    "import pandas as pd\n",
    "import random\n",
    "import sys"
   ]
  },
  {
   "cell_type": "code",
   "execution_count": 2,
   "metadata": {},
   "outputs": [],
   "source": [
    "def apply_gate(qubit_edges, gate, operating_qubits):\n",
    "    op = tn.Node(gate)\n",
    "    for i, bit in enumerate(operating_qubits):\n",
    "        tn.connect(qubit_edges[bit], op[i])\n",
    "        qubit_edges[bit] = op[i + len(operating_qubits)]\n",
    "        \n",
    "def apply_iostate(qubit_edges,states):\n",
    "    for k in range(len(qubit_edges)):\n",
    "        if states[k]==0:\n",
    "            op = tn.Node(np.array([1,0]))\n",
    "        else:\n",
    "            op = tn.Node(np.array([0,1]))\n",
    "        tn.connect(qubit_edges[k], op[0])"
   ]
  },
  {
   "cell_type": "code",
   "execution_count": 3,
   "metadata": {},
   "outputs": [],
   "source": [
    "def matrix_2_np(U,q):\n",
    "    if len(q)!=2:\n",
    "        return U\n",
    "    U_new=np.zeros((2, 2, 2, 2), dtype=complex)\n",
    "    for k1 in range(2):\n",
    "        for k2 in range(2):\n",
    "            for k3 in range(2):\n",
    "                for k4 in range(2):\n",
    "                    U_new[k1][k2][k3][k4]=U[2*k2+k1][2*k4+k3]\n",
    "    return U_new\n",
    "\n",
    "def np_2_matrix(U,q_num):\n",
    "    U_new=np.zeros((2**q_num,2**q_num), dtype=complex)\n",
    "    for k1 in range(2**q_num):\n",
    "        for k2 in range(2**q_num):\n",
    "            b1=[int(b1) for b1 in list(bin(k1)[2:])]\n",
    "            for k3 in range(q_num-len(b1)):\n",
    "                b1.insert(0,0)\n",
    "            b2=[int(b2) for b2 in list(bin(k2)[2:])]\n",
    "            for k3 in range(q_num-len(b2)):\n",
    "                b2.insert(0,0)            \n",
    "            temp=U\n",
    "            for b in b1:\n",
    "                temp=temp[b]\n",
    "            for b in b2:\n",
    "                temp=temp[b]\n",
    "            U_new[k1][k2]=temp\n",
    "    return U_new"
   ]
  },
  {
   "cell_type": "code",
   "execution_count": 4,
   "metadata": {},
   "outputs": [],
   "source": [
    "def get_real_qubits_num(cir):\n",
    "    gates=cir.data\n",
    "    q=0\n",
    "    for k in range(len(gates)):\n",
    "        q=max(q,max([qbit.index for qbit in gates[k][1]]))\n",
    "    return q+1"
   ]
  },
  {
   "cell_type": "code",
   "execution_count": 5,
   "metadata": {},
   "outputs": [],
   "source": [
    "@func_set_timeout(3600)\n",
    "def Simulation_with_TensorNetwork(cir,io=False):\n",
    "    all_nodes = []\n",
    "    with tn.NodeCollection(all_nodes):\n",
    "        qubits_num=get_real_qubits_num(cir)\n",
    "        state_nodes = [\n",
    "            tn.Node(np.eye(2, dtype=complex)) for _ in range(qubits_num)\n",
    "        ]\n",
    "        \n",
    "        qubits0=[node[0] for node in state_nodes]\n",
    "        qubits = [node[1] for node in state_nodes]\n",
    "        gates=cir.data\n",
    "        for k in range(len(gates)):\n",
    "            U=Operator(gates[k][0]).data\n",
    "            q=[qbit.index for qbit in gates[k][1]]\n",
    "            if len(q)==2:\n",
    "                U=matrix_2_np(U,q)\n",
    "            apply_gate(qubits, U, q)\n",
    "    \n",
    "    \n",
    "        if io:\n",
    "            input_state=[random.randint(0,1) for k in range(qubits_num)]\n",
    "            output_state=[random.randint(0,1) for k in range(qubits_num)]\n",
    "            \n",
    "            apply_iostate(qubits0,input_state)\n",
    "            apply_iostate(qubits,output_state)\n",
    "            qubits0=[]\n",
    "            qubits=[]\n",
    "        edge_order=qubits0+qubits\n",
    "#         print(edge_order)\n",
    "        result = tn.contractors.auto(all_nodes, output_edge_order=edge_order).tensor\n",
    "        return result"
   ]
  },
  {
   "cell_type": "code",
   "execution_count": 6,
   "metadata": {},
   "outputs": [],
   "source": [
    "def Simulation_with_time_out(cir,io=False):\n",
    "    try:\n",
    "        return Simulation_with_TensorNetwork(cir,io)\n",
    "    except:\n",
    "        return 0"
   ]
  },
  {
   "cell_type": "code",
   "execution_count": 13,
   "metadata": {
    "scrolled": false
   },
   "outputs": [
    {
     "name": "stderr",
     "output_type": "stream",
     "text": [
      "C:\\Users\\YINGTE~1\\AppData\\Local\\Temp/ipykernel_17032/2942288214.py:5: DeprecationWarning: Back-references to from Bit instances to their containing Registers have been deprecated. Instead, inspect Registers to find their contained Bits.\n",
      "  q=max(q,max([qbit.index for qbit in gates[k][1]]))\n",
      "C:\\Users\\YINGTE~1\\AppData\\Local\\Temp/ipykernel_17032/156966690.py:15: DeprecationWarning: Back-references to from Bit instances to their containing Registers have been deprecated. Instead, inspect Registers to find their contained Bits.\n",
      "  q=[qbit.index for qbit in gates[k][1]]\n"
     ]
    }
   ],
   "source": [
    "tn.set_default_backend('tdd')\n",
    "path=\"Benchmarks/\"\n",
    "file_name=\"qft_11.qasm\"\n",
    "# path='7x7_cz/'\n",
    "# file_name=\"inst_7x7_20_0.qasm\"\n",
    "cir=QuantumCircuit.from_qasm_file(path+file_name)\n",
    "t_start= time.time()\n",
    "U=Simulation_with_TensorNetwork(cir)\n",
    "t_end=time.time()\n",
    "print('Time:',t_end-t_start)\n",
    "# qubits_num=get_real_qubits_num(cir)\n",
    "# U=np_2_matrix(U,qubits_num)\n",
    "# print(U[0][0])"
   ]
  },
  {
   "cell_type": "code",
   "execution_count": 17,
   "metadata": {
    "scrolled": false
   },
   "outputs": [],
   "source": [
    "# print(U.dtype)\n",
    "# print(U.shape)\n",
    "# print(U.size)\n",
    "# print(U.itemsize)\n",
    "# print(U.nbytes)\n",
    "# print(sys.getsizeof(U))\n",
    "# print(type(U))\n",
    "# f=open('data_u.txt','wb')\n",
    "# np.save(f, U)\n",
    "# f.close()"
   ]
  },
  {
   "cell_type": "code",
   "execution_count": null,
   "metadata": {
    "scrolled": false
   },
   "outputs": [
    {
     "name": "stdout",
     "output_type": "stream",
     "text": [
      "qft_20.qasm\n",
      "0.21600031852722168\n",
      "qft_21.qasm\n",
      "1.0810060501098633\n",
      "qft_22.qasm\n",
      "0.5509994029998779\n",
      "qft_23.qasm\n",
      "0.5129718780517578\n",
      "qft_24.qasm\n",
      "0.3509998321533203\n",
      "qft_25.qasm\n",
      "0.4380021095275879\n",
      "qft_26.qasm\n",
      "0.6779987812042236\n",
      "qft_27.qasm\n",
      "1.0389511585235596\n",
      "qft_28.qasm\n",
      "1.1199791431427002\n",
      "qft_29.qasm\n",
      "6.929980754852295\n",
      "qft_30.qasm\n",
      "3.956935167312622\n",
      "qft_31.qasm\n"
     ]
    }
   ],
   "source": [
    "# # path='bv/'\n",
    "# path=\"Gen_QFT/\"\n",
    "# # file_list = open('test3.txt','r')\n",
    "# # excel_path = 'data2.xlsx'\n",
    "# # path=\"Gen_SWAP/\"\n",
    "# file_list = open('test4.txt','r')\n",
    "# excel_path = 'data1225.xlsx'\n",
    "# # result=[]\n",
    "# # with open('computed.txt','r') as f:\n",
    "# #     for line in f:\n",
    "# #         result.append(line[:-1])\n",
    "\n",
    "# data = [\"New\"]\n",
    "# data=np.array(data).reshape(1,len(data))\n",
    "# df = pd.read_excel(excel_path, header=None)\n",
    "# ds = pd.DataFrame(data)\n",
    "# df = df.append(ds, ignore_index=True)\n",
    "# df.to_excel(excel_path, index=False, header=False)\n",
    "\n",
    "# for file in file_list.readlines():\n",
    "#     file_name=file[:-1]\n",
    "#     print(file_name)\n",
    "    \n",
    "#     cir=QuantumCircuit.from_qasm_file(path+file_name)\n",
    "#     qubits_num=get_real_qubits_num(cir)\n",
    "    \n",
    "#     data = []\n",
    "#     data.append(file_name)\n",
    "#     data.append(qubits_num)\n",
    "    \n",
    "#     time_now = datetime.datetime.now()\n",
    "# #     print(time_now.strftime('%m.%d-%H:%M:%S'))\n",
    "    \n",
    "#     t_start = time.time()\n",
    "#     res=Simulation_with_time_out(cir,True)\n",
    "#     run_time=time.time()-t_start\n",
    "#     print(run_time)\n",
    "#     data.append(run_time)\n",
    "#     if isinstance(res,int):\n",
    "#         data.append(-1)\n",
    "        \n",
    "    \n",
    "#     data=np.array(data).reshape(1,len(data))\n",
    "#     df = pd.read_excel(excel_path, header=None)\n",
    "#     ds = pd.DataFrame(data)\n",
    "#     df = df.append(ds, ignore_index=True)\n",
    "#     df.to_excel(excel_path, index=False, header=False)\n",
    "#     if isinstance(res,int):\n",
    "#         break\n",
    "# file_list.close()"
   ]
  },
  {
   "cell_type": "code",
   "execution_count": null,
   "metadata": {},
   "outputs": [],
   "source": []
  },
  {
   "cell_type": "code",
   "execution_count": null,
   "metadata": {},
   "outputs": [],
   "source": []
  }
 ],
 "metadata": {
  "kernelspec": {
   "display_name": "Python 3",
   "language": "python",
   "name": "python3"
  },
  "language_info": {
   "codemirror_mode": {
    "name": "ipython",
    "version": 3
   },
   "file_extension": ".py",
   "mimetype": "text/x-python",
   "name": "python",
   "nbconvert_exporter": "python",
   "pygments_lexer": "ipython3",
   "version": "3.9.7"
  }
 },
 "nbformat": 4,
 "nbformat_minor": 4
}
